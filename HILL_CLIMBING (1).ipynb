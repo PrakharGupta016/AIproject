{
  "nbformat": 4,
  "nbformat_minor": 0,
  "metadata": {
    "colab": {
      "provenance": []
    },
    "kernelspec": {
      "name": "python3",
      "display_name": "Python 3"
    },
    "language_info": {
      "name": "python"
    }
  },
  "cells": [
    {
      "cell_type": "code",
      "execution_count": 149,
      "metadata": {
        "id": "FyP0jIVugIKO"
      },
      "outputs": [],
      "source": [
        "import math\n",
        "import random\n",
        "import matplotlib.pyplot as plt\n"
      ]
    },
    {
      "cell_type": "code",
      "source": [
        "# Objective function\n",
        "def objective_function(x, y):\n",
        "    return (1 * 1.38 * pow(10,-23) * x) / (1.6 * pow(10,-19)) * (math.log(2.54/1e-11) + math.log(y))\n",
        "\n",
        "# Hill climbing algorithm\n"
      ],
      "metadata": {
        "id": "dI9TUeHGgReM"
      },
      "execution_count": 150,
      "outputs": []
    },
    {
      "cell_type": "code",
      "source": [
        "x = []\n",
        "y = []\n",
        "def hill_climbing(starting_x, starting_y, step_size, bounds,num_iterations):\n",
        "    current_x = starting_x\n",
        "    current_y = starting_y\n",
        "    x.append(current_x)\n",
        "    y.append(current_y)\n",
        "    current_objective_value = objective_function(current_x, current_y)\n",
        "    \n",
        "    for i in range(num_iterations):\n",
        "        # Evaluate objective function for neighboring points\n",
        "        neighbors = [(current_x + random.uniform(0.1,0.3), current_y),\n",
        "                     (current_x - random.uniform(0.1,0.3), current_y),\n",
        "                     (current_x, current_y + random.uniform(20, 30)),\n",
        "                     (current_x, current_y - random.uniform(20, 30))]\n",
        "\n",
        "        neighbor_values = [objective_function(x, y) for x, y in neighbors]\n",
        "        \n",
        "\n",
        "        best_neighbor_value = max(neighbor_values)\n",
        "        best_neighbor = neighbors[neighbor_values.index(best_neighbor_value)]\n",
        "\n",
        "        tempX = best_neighbor[0]\n",
        "        tempy = best_neighbor[1]\n",
        "        if tempX < bounds[0][0] :\n",
        "          tempX = bounds[0][0]\n",
        "        if tempX > bounds[0][1] :\n",
        "            tempX = bounds[0][1]\n",
        "        if tempy < bounds[1][0] :\n",
        "          tempy = bounds[1][0]\n",
        "        if tempy > bounds[1][1] :\n",
        "            tempy = bounds[1][1]\n",
        "        best_neighbor = tempX,tempy\n",
        "        x.append(best_neighbor[0])\n",
        "        y.append(best_neighbor[1])\n",
        "        \n",
        "        # If the best neighbor has a higher objective value than the current point, move to it\n",
        "        if best_neighbor_value > current_objective_value:\n",
        "            current_x, current_y = best_neighbor\n",
        "            current_objective_value = best_neighbor_value\n",
        "            \n",
        "        # Otherwise, return the current point as the result\n",
        "        else:\n",
        "            return current_x, current_y,current_objective_value\n",
        "\n",
        "        \n",
        "    # If maximum iterations are reached, return the current point as the result\n",
        "    return current_x, current_y,current_objective_value\n",
        "\n"
      ],
      "metadata": {
        "id": "1rjRnn2LgciD"
      },
      "execution_count": 151,
      "outputs": []
    },
    {
      "cell_type": "code",
      "source": [
        "bounds = [(283,313),(500,1000)]\n",
        "X_best,Y_best,obj = hill_climbing(283,700,-1,bounds,10)\n",
        "print(X_best)\n",
        "print(Y_best)\n",
        "print(obj)"
      ],
      "metadata": {
        "colab": {
          "base_uri": "https://localhost:8080/"
        },
        "id": "0LcmyTHugePI",
        "outputId": "a2fcaaa3-82f6-4729-c34f-468f7e0d2cdf"
      },
      "execution_count": 152,
      "outputs": [
        {
          "output_type": "stream",
          "name": "stdout",
          "text": [
            "283.8205914057583\n",
            "877.2006062174814\n",
            "0.808738321259535\n"
          ]
        }
      ]
    },
    {
      "cell_type": "code",
      "source": [
        "results = [objective_function(x[i],y[i]) for i in range(len(x))]\n",
        "plt.plot(x,results)\n",
        "plt.xlabel('temperature')\n",
        "plt.ylabel('output voltage per cell')\n",
        "\n",
        "plt.show()"
      ],
      "metadata": {
        "colab": {
          "base_uri": "https://localhost:8080/",
          "height": 430
        },
        "id": "KHIS9QXegw9C",
        "outputId": "88f78c4d-9f52-4bfb-ac13-dab015438ead"
      },
      "execution_count": 153,
      "outputs": [
        {
          "output_type": "display_data",
          "data": {
            "text/plain": [
              "<Figure size 640x480 with 1 Axes>"
            ],
            "image/png": "[encoded data removed]"
          },
          "metadata": {}
        }
      ]
    },
    {
      "cell_type": "markdown",
      "source": [
        "**Variations**"
      ],
      "metadata": {
        "id": "8KQsAGl2iEtG"
      }
    },
    {
      "cell_type": "code",
      "source": [
        "newX = []\n",
        "newY = []\n",
        "def New_hill_climbing(starting_x, starting_y, step_size, bounds,num_iterations):\n",
        "    current_x = starting_x\n",
        "    current_y = starting_y\n",
        "    newX.append(current_x)\n",
        "    newY.append(current_y)\n",
        "    current_objective_value = objective_function(current_x, current_y)\n",
        "    \n",
        "    for i in range(num_iterations):\n",
        "        # Evaluate objective function for neighboring points\n",
        "        neighbors = [(current_x + random.uniform(0.1,0.3), current_y),\n",
        "                     (current_x - random.uniform(0.1,0.3), current_y),\n",
        "                     (current_x, current_y + random.uniform(20, 30)),\n",
        "                     (current_x, current_y - random.uniform(20, 30))]\n",
        "\n",
        "        # neighbor_values = [if objective_function(x, y)>current_objective_value for x, y in neighbors]\n",
        "        neighbor_values = []\n",
        "        for x,y in neighbors:\n",
        "          if objective_function(x,y)> current_objective_value:\n",
        "            neighbor_values.append((x,y))\n",
        "          \n",
        "        \n",
        "\n",
        "        best_neighbor = neighbor_values[random.randint(0,len(neighbor_values)-1)]\n",
        "        # print(best_neighbor)\n",
        "        tempx = best_neighbor[0]\n",
        "        tempy = best_neighbor[1]\n",
        "        best_neighbor_value = objective_function(tempx,tempy)\n",
        "\n",
        "        tempX = best_neighbor[0]\n",
        "        tempy = best_neighbor[1]\n",
        "        if tempX < bounds[0][0] :\n",
        "          tempX = bounds[0][0]\n",
        "        if tempX > bounds[0][1] :\n",
        "            tempX = bounds[0][1]\n",
        "        if tempy < bounds[1][0] :\n",
        "          tempy = bounds[1][0]\n",
        "        if tempy > bounds[1][1] :\n",
        "            tempy = bounds[1][1]\n",
        "        best_neighbor = tempX,tempy\n",
        "        newX.append(best_neighbor[0])\n",
        "        newY.append(best_neighbor[1])\n",
        "        \n",
        "        # If the best neighbor has a higher objective value than the current point, move to it\n",
        "        if best_neighbor_value > current_objective_value:\n",
        "            current_x, current_y = best_neighbor\n",
        "            current_objective_value = best_neighbor_value\n",
        "            \n",
        "        # Otherwise, return the current point as the result\n",
        "        else:\n",
        "            return current_x, current_y,current_objective_value\n",
        "\n",
        "        \n",
        "    # If maximum iterations are reached, return the current point as the result\n",
        "    return current_x, current_y,current_objective_value\n",
        "\n"
      ],
      "metadata": {
        "id": "VSNeiWk-iGxD"
      },
      "execution_count": 154,
      "outputs": []
    },
    {
      "cell_type": "code",
      "source": [
        "New_X_best,New_Y_best,New_obj = New_hill_climbing(283,700,-1,bounds,10)\n",
        "print(New_X_best)\n",
        "print(New_Y_best)\n",
        "print(New_obj)"
      ],
      "metadata": {
        "colab": {
          "base_uri": "https://localhost:8080/"
        },
        "id": "ZeOi9XPvi2Q8",
        "outputId": "292ebe7b-500c-4a8f-ac3a-1030affca9c8"
      },
      "execution_count": 155,
      "outputs": [
        {
          "output_type": "stream",
          "name": "stdout",
          "text": [
            "283.5791536274974\n",
            "876.5385834985924\n",
            "0.8080318855666492\n"
          ]
        }
      ]
    },
    {
      "cell_type": "code",
      "source": [
        "newResults = [objective_function(newX[i],newY[i]) for i in range(len(newX))]\n",
        "plt.plot(newX,newResults)\n",
        "plt.xlabel('temperature')\n",
        "plt.ylabel('output voltage per cell')\n",
        "plt.show()"
      ],
      "metadata": {
        "colab": {
          "base_uri": "https://localhost:8080/",
          "height": 430
        },
        "id": "NTQ5sdZomDWH",
        "outputId": "031ffeb0-ab16-460b-d664-7f91b7961858"
      },
      "execution_count": 156,
      "outputs": [
        {
          "output_type": "display_data",
          "data": {
            "text/plain": [
              "<Figure size 640x480 with 1 Axes>"
            ],
            "image/png": "[encoded data removed]"
          },
          "metadata": {}
        }
      ]
    }
  ]
}