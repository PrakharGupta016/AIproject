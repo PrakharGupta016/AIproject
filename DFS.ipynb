{
  "nbformat": 4,
  "nbformat_minor": 0,
  "metadata": {
    "colab": {
      "provenance": []
    },
    "kernelspec": {
      "name": "python3",
      "display_name": "Python 3"
    },
    "language_info": {
      "name": "python"
    }
  },
  "cells": [
    {
      "cell_type": "code",
      "execution_count": 5,
      "metadata": {
        "colab": {
          "base_uri": "https://localhost:8080/"
        },
        "id": "mseT_Er2x3VH",
        "outputId": "bf86a807-6f3a-4e3b-8e07-d12042a2d679"
      },
      "outputs": [
        {
          "output_type": "stream",
          "name": "stdout",
          "text": [
            "Best solution: x=290, y=780\n",
            "Best value: 0.8234088492665099\n"
          ]
        }
      ],
      "source": [
        "import math\n",
        "\n",
        "def objective_function(x, y):\n",
        "    return ((1*1.38 * pow(10,-23) *x)/(1.6 * pow(10,-19))) * (math.log(2.54/1e-11)+math.log(y))\n",
        "\n",
        "def dfs_search(max_depth, x_range, y_range):\n",
        "    best_solution = None\n",
        "    best_value = float('-inf')\n",
        "    \n",
        "    stack = [(0, x_range, y_range)]\n",
        "    \n",
        "    while stack:\n",
        "        depth, x_range, y_range = stack.pop()\n",
        "        \n",
        "        if depth >= max_depth:\n",
        "            continue\n",
        "        \n",
        "        for x in range(x_range[0], x_range[1]+1):\n",
        "\n",
        "            for y in range(y_range[0], y_range[1]+1):\n",
        "                value = objective_function(x, y)\n",
        "                \n",
        "                if value > best_value:\n",
        "                    # print(x,y)\n",
        "                    best_solution = (x, y)\n",
        "                    best_value = value\n",
        "                \n",
        "                stack.append((depth+1, (x, x), (y, y)))\n",
        "                \n",
        "    return best_solution, best_value\n",
        "\n",
        "# Example usage\n",
        "best_solution, best_value = dfs_search(max_depth=10, x_range=(283, 300), y_range=(750, 1000))\n",
        "\n",
        "print(f\"Best solution: x={best_solution[0]}, y={best_solution[1]}\")\n",
        "print(f\"Best value: {best_value}\")\n"
      ]
    },
    {
      "cell_type": "code",
      "source": [],
      "metadata": {
        "id": "H7kTdLdUy90v"
      },
      "execution_count": null,
      "outputs": []
    }
  ]
}